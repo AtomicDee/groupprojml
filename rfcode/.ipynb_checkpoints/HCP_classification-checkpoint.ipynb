{
 "cells": [
  {
   "cell_type": "markdown",
   "metadata": {},
   "source": [
    "# Random Forest Classifier for HCP multimodal featureset "
   ]
  },
  {
   "cell_type": "markdown",
   "metadata": {},
   "source": [
    "An script for running a simple classification task with data from the Human Connectome Project."
   ]
  },
  {
   "cell_type": "code",
   "execution_count": 62,
   "metadata": {
    "collapsed": true
   },
   "outputs": [],
   "source": [
    "import pandas as pd\n",
    "import numpy as np\n",
    "import os \n",
    "import rfcode.helpfunctions as hf\n",
    "from sklearn import decomposition\n",
    "from sklearn.ensemble import RandomForestClassifier\n",
    "from sklearn.feature_selection import SelectPercentile\n",
    "import matplotlib.pyplot as plt\n",
    "import nibabel\n",
    "from IPython import display\n",
    "\n",
    "# iPython specific\n",
    "%matplotlib inline"
   ]
  },
  {
   "cell_type": "markdown",
   "metadata": {},
   "source": [
    "First setting paths, reading data matrix and initialising parameters:"
   ]
  },
  {
   "cell_type": "code",
   "execution_count": 63,
   "metadata": {
    "collapsed": false
   },
   "outputs": [
    {
     "name": "stdout",
     "output_type": "stream",
     "text": [
      "/vol/medic01/users/ecr05/HCP_PARCELLATION/TRAININGDATA/TRAININGandVALlist.txt\n"
     ]
    }
   ],
   "source": [
    "dirname='/vol/medic01/users/ecr05/for_ricardo/' \n",
    "subjectpath='/vol/medic01/users/ecr05/HCP_PARCELLATION/TRAININGDATA/TRAININGandVALlist.txt'\n",
    "csvpath='unrestricted.csv' # behavioural spreadsheet\n",
    "datapath='/vol/medic01/users/ecr05/HCP_PARCELLATION/TESTINGDATA/rfTrainData.npy' # data converted into nxm feature matrix\n",
    "test_datapath='/vol/medic01/users/ecr05/HCP_PARCELLATION/TESTINGDATA/rfTestData.npy'\n",
    "\n",
    "variable='Gender' # dependent variable\n",
    "RANDOM_STATE =42\n",
    "readtype='HCP_avfeatures'\n",
    "# set random forest with parameters that have been optimised through 10 fold cross validation\n",
    "nTrees=1000 \n",
    "tDepth=9\n",
    "maxf=75\n",
    "\n",
    "trainingDATA=hf.read_DATA(datapath,readtype) # read train data\n",
    "testDATA=hf.read_DATA(test_datapath,readtype) # read test data\n",
    "xl_file = pd.read_csv(os.path.join(dirname,csvpath)) # read behavioural variable spreadsheet \n",
    "subjects=hf.get_subjects(trainingDATA,subjectpath,readtype) # get subjects list "
   ]
  },
  {
   "cell_type": "markdown",
   "metadata": {},
   "source": [
    "Now extracting the behavioural variable labels from the spreadsheet, checking for missing values, and removing the corresponding rows from the data matrix "
   ]
  },
  {
   "cell_type": "code",
   "execution_count": 64,
   "metadata": {
    "collapsed": false
   },
   "outputs": [
    {
     "name": "stdout",
     "output_type": "stream",
     "text": [
      "delete rows 246 142626\n"
     ]
    }
   ],
   "source": [
    "labelvalues=[] # SELECT labels for subset (in future could choose a few and loop over)\n",
    "deletedrows=[]\n",
    "for index,subj in enumerate(subjects):\n",
    "    #print(index,subj)\n",
    "    if(xl_file.loc[xl_file['Subject']==int(subj),'Gender'].shape !=(0,)):\n",
    "       # print(xl_file.loc[xl_file['Subject']==int(subj),variables[0]].item())\n",
    "        labelvalues.append(xl_file.loc[xl_file['Subject']==int(subj),variable].item())\n",
    "    else:\n",
    "        # delete data for which there are no labels\n",
    "        print('delete rows',index,subjects[index])\n",
    "        deletedrows.append(index)\n",
    "        \n",
    "features=np.delete(trainingDATA,deletedrows,0)    "
   ]
  },
  {
   "cell_type": "markdown",
   "metadata": {},
   "source": [
    "Now converting the descriptive labels to a discrete index"
   ]
  },
  {
   "cell_type": "code",
   "execution_count": 65,
   "metadata": {
    "collapsed": false,
    "scrolled": true
   },
   "outputs": [
    {
     "name": "stdout",
     "output_type": "stream",
     "text": [
      "features shape (419, 39600)\n",
      "labels shape (419,)\n"
     ]
    }
   ],
   "source": [
    "uniquelabels=np.unique(labelvalues) # CONVERT labels to indices #######\n",
    "labels=np.zeros((len(labelvalues)))\n",
    "\n",
    "for index, val in enumerate(uniquelabels):\n",
    "    labels[np.where(np.asarray(labelvalues)==val)]=index\n",
    "    \n",
    "print('features shape',features.shape)\n",
    "print('labels shape',labels.shape)"
   ]
  },
  {
   "cell_type": "markdown",
   "metadata": {},
   "source": [
    "First thing is to reduce the 360x110 feature space down to something manageable for the Random Forest. RFs perform best when the number of features is less than the number of examples. We will perform feature selection in two stages:\n",
    "\n",
    "1) Using univariate statistical tests remove all features with low prediction power of individual features. \n",
    "2) Feature selection using ensemble learning - in this case random forests (ignoring the circularity of this analysis, for the sake of not introducing any further methods at this stage)\n",
    "\n",
    "In the first case we will perform univariate F-tests and optimise the selection threshold based on performance of a linear SVM classifier on the subset"
   ]
  },
  {
   "cell_type": "code",
   "execution_count": 69,
   "metadata": {
    "collapsed": false
   },
   "outputs": [
    {
     "name": "stdout",
     "output_type": "stream",
     "text": [
      "The optimal threshold percentile 5\n"
     ]
    },
    {
     "name": "stderr",
     "output_type": "stream",
     "text": [
      "/vol/medic01/users/ecr05/anaconda3/lib/python3.5/site-packages/ipykernel/__main__.py:19: VisibleDeprecationWarning: converting an array with ndim > 0 to an index will result in an error in the future\n"
     ]
    },
    {
     "data": {
      "image/png": "[encoded data removed]",
      "text/plain": [
       "<matplotlib.figure.Figure at 0x7f8c76d91780>"
      ]
     },
     "metadata": {},
     "output_type": "display_data"
    }
   ],
   "source": [
    "from sklearn.model_selection import cross_val_score\n",
    "from sklearn.pipeline import Pipeline\n",
    "from sklearn import svm\n",
    "#from sklearn.discriminant_analysis import LinearDiscriminantAnalysis\n",
    "transform = SelectPercentile()\n",
    "\n",
    "clf = Pipeline([('anova', transform), ('svc', svm.SVC(C=1.0))])\n",
    "score_means = list()\n",
    "score_stds = list()\n",
    "percentiles = (1,3, 5, 7,9, 11,13, 15, 20, 30, 40, 60, 80, 100)\n",
    "\n",
    "for percentile in percentiles:\n",
    "    clf.set_params(anova__percentile=percentile)\n",
    "    # Compute cross-validation score using 1 CPU\n",
    "    this_scores = cross_val_score(clf, features, labels, n_jobs=1)\n",
    "    score_means.append(this_scores.mean())\n",
    "    score_stds.append(this_scores.std())\n",
    "\n",
    "optimal_threshold=percentiles[np.where(score_means==np.max(score_means))[0]]\n",
    "\n",
    "\n",
    "\n",
    "print('The optimal threshold percentile', optimal_threshold)\n",
    "\n",
    "\n",
    "# Plot the distribution\n",
    "plt.errorbar(percentiles, score_means, np.array(score_stds))\n",
    "\n",
    "plt.title(\n",
    "    'Performance of Linear classifier while varying the percentile of features selected')\n",
    "plt.xlabel('Percentile')\n",
    "plt.ylabel('Prediction rate')\n",
    "plt.xticks(np.arange(0, max(percentiles)+1, 5))\n",
    "plt.axis('tight')\n",
    "plt.show()"
   ]
  },
  {
   "cell_type": "markdown",
   "metadata": {},
   "source": [
    "Now selecting the best features using the optimal threshold and saving the indices of the features used"
   ]
  },
  {
   "cell_type": "code",
   "execution_count": 67,
   "metadata": {
    "collapsed": false,
    "scrolled": false
   },
   "outputs": [],
   "source": [
    "kbest=SelectPercentile(percentile=optimal_threshold)\n",
    "featuresbest = kbest.fit_transform(features, labels)\n",
    "f_mask=kbest.get_support() # mask of features used\n",
    "indices1=np.where(f_mask==True)"
   ]
  },
  {
   "cell_type": "markdown",
   "metadata": {},
   "source": [
    "Now performing random forest based feature selection using default rf parameters"
   ]
  },
  {
   "cell_type": "code",
   "execution_count": 72,
   "metadata": {
    "collapsed": false,
    "scrolled": true
   },
   "outputs": [
    {
     "name": "stdout",
     "output_type": "stream",
     "text": [
      "after anova testing number of features is  1980\n"
     ]
    },
    {
     "data": {
      "image/png": "[encoded data removed]",
      "text/plain": [
       "<matplotlib.figure.Figure at 0x7f8c74c99518>"
      ]
     },
     "metadata": {},
     "output_type": "display_data"
    }
   ],
   "source": [
    "model=RandomForestClassifier(n_estimators=1000,random_state=RANDOM_STATE,n_jobs=-1)\n",
    "model.fit(featuresbest,labels)\n",
    "importances=model.feature_importances_\n",
    "\n",
    "print('after anova testing number of features is ', featuresbest.shape[1])\n",
    "std = np.std([tree.feature_importances_ for tree in model.estimators_], axis=0)\n",
    "indices = np.argsort(importances)[::-1]\n",
    "featuresfin=featuresbest[:,indices[:100]]\n",
    "top100indices=indices1[0][indices[:100]]\n",
    "\n",
    "plt.figure()\n",
    "plt.title(\"Feature importances\")\n",
    "plt.bar(range(featuresbest.shape[1]), importances[indices],\n",
    "       color=\"r\", yerr=std[indices], align=\"center\")\n",
    "plt.xticks(range(featuresbest.shape[1]), indices)\n",
    "plt.xlim([-1, featuresbest.shape[1]])\n",
    "plt.show()"
   ]
  },
  {
   "cell_type": "code",
   "execution_count": 74,
   "metadata": {
    "collapsed": false
   },
   "outputs": [
    {
     "data": {
      "image/png": "[encoded data removed]",
      "text/plain": [
       "<matplotlib.figure.Figure at 0x7f8c74afcfd0>"
      ]
     },
     "metadata": {},
     "output_type": "display_data"
    }
   ],
   "source": [
    "plt.hist(importances,100)\n",
    "plt.show()"
   ]
  },
  {
   "cell_type": "code",
   "execution_count": null,
   "metadata": {
    "collapsed": true
   },
   "outputs": [],
   "source": [
    "thresholds = (100,250,500,750,1000,1500,featuresbest.shape[1])\n",
    "\n",
    "for threshold in thresholds:\n",
    "    featuresfin=featuresbest[:,indices[:threshold]]\n",
    "    clf.set_params(anova__percentile=percentile)\n",
    "    # Compute cross-validation score using 1 CPU\n",
    "    this_scores = cross_val_score(clf, features, labels, n_jobs=1)\n",
    "    score_means.append(this_scores.mean())\n",
    "    score_stds.append(this_scores.std())\n",
    "\n",
    "optimal_threshold=percentiles[np.where(score_means==np.max(score_means))[0]]"
   ]
  }
 ],
 "metadata": {
  "anaconda-cloud": {},
  "kernelspec": {
   "display_name": "Python [default]",
   "language": "python",
   "name": "python3"
  },
  "language_info": {
   "codemirror_mode": {
    "name": "ipython",
    "version": 3
   },
   "file_extension": ".py",
   "mimetype": "text/x-python",
   "name": "python",
   "nbconvert_exporter": "python",
   "pygments_lexer": "ipython3",
   "version": "3.5.2"
  }
 },
 "nbformat": 4,
 "nbformat_minor": 1
}
